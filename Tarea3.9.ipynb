{
  "nbformat": 4,
  "nbformat_minor": 0,
  "metadata": {
    "colab": {
      "provenance": [],
      "collapsed_sections": []
    },
    "kernelspec": {
      "name": "python3",
      "display_name": "Python 3"
    },
    "language_info": {
      "name": "python"
    }
  },
  "cells": [
    {
      "cell_type": "markdown",
      "source": [
        "## Tarea 3.10\n",
        "\n",
        "A partir de los siguientes códigos, explique si el número de pasos es $\\mathcal{O}(n^c)$  (y cuánto vale $c$), $\\mathcal{O}(\\log_2 n)$ o $\\mathcal{O}(2^n)$ y por qué. Pista: Para el último código aumente n y vea cómo cambia el número de pasos s. Grafique n contra s e intente deducir a qué corresponde."
      ],
      "metadata": {
        "id": "DReaMs4HsH1-"
      }
    },
    {
      "cell_type": "markdown",
      "source": [
        "##primer código"
      ],
      "metadata": {
        "id": "nnhnhdkX4V10"
      }
    },
    {
      "cell_type": "code",
      "execution_count": null,
      "metadata": {
        "id": "yoaRG1ZW73fJ",
        "colab": {
          "base_uri": "https://localhost:8080/"
        },
        "outputId": "17cd6c61-bb47-4d65-e890-ef3a976eb907"
      },
      "outputs": [
        {
          "output_type": "stream",
          "name": "stdout",
          "text": [
            "499000500\n"
          ]
        }
      ],
      "source": [
        "n = 1000\n",
        "s = 0 \n",
        "for i in range(n):\n",
        "    for j in range(n):\n",
        "        if i < j:\n",
        "            s = s + i + j\n",
        "\n",
        "\n",
        "#print(type(lista))\n",
        "print(s) #print agregado por mí para ver el valor total de de la operación\n"
      ]
    },
    {
      "cell_type": "markdown",
      "source": [
        "se puede ver que hay un ciclo ''for i in range(n)'' por lo que en este punto la cantidad de paso $\\mathcal{O}(n)$ con n= 1000, pero luego hay otro ciclo ''for j in range(n)'' por lo que ese ciclo se ejecutará 1 vez por cada n por lo que la complejidad de este será $\\mathcal{O}(n^c)$, con $c= 2$ "
      ],
      "metadata": {
        "id": "lH7aBzpJ26Km"
      }
    },
    {
      "cell_type": "markdown",
      "source": [
        "## segundo código"
      ],
      "metadata": {
        "id": "BVhyooNc4Z7Z"
      }
    },
    {
      "cell_type": "code",
      "source": [
        "n = 1000\n",
        "s = 0\n",
        "for i in range(n):\n",
        "    s = s + i + sum(range(n))\n",
        "print(s) #print agregado por mí para ver el valor total de de la operación"
      ],
      "metadata": {
        "colab": {
          "base_uri": "https://localhost:8080/"
        },
        "id": "32H4y8jvsei5",
        "outputId": "fa23a471-14a7-4a15-da10-0f76c2769287"
      },
      "execution_count": null,
      "outputs": [
        {
          "output_type": "stream",
          "name": "stdout",
          "text": [
            "499999500\n"
          ]
        }
      ]
    },
    {
      "cell_type": "markdown",
      "source": [
        "burdamente podriamos decir que como el valor es el mismo que el primer código este debería ser de complejidad $\\mathcal{O}(n^c)$, con $c= 2$; Pero para asegurarnos nos fijamos que hay un ciclo ''for i in range(n)'' lo que hace que la cantidad de pasos en este punto sea de $\\mathcal{O}(n)$, pero luego dentro de la lista hay un enunciado ''sum()'' que lo que hace es sumar todo los números contenidos dentro de una lista, por lo que se ejecutará una vez por cada n por lo que como habíamos mencionado en un principio la cantidad de pasos será $\\mathcal{O}(n^c)$, con $c= 2$  "
      ],
      "metadata": {
        "id": "cF_pgTVl5LqP"
      }
    },
    {
      "cell_type": "markdown",
      "source": [
        "## tercer código"
      ],
      "metadata": {
        "id": "u1qQGmgv7ndf"
      }
    },
    {
      "cell_type": "code",
      "source": [
        "n = 147 #n\n",
        "small = 0\n",
        "p = 146\n",
        "attempt = n//2\n",
        "not_found = True\n",
        "s = 0 #s es un contador de pasos\n",
        "while not_found:\n",
        "    s = s + 1 \n",
        "    if attempt > p:\n",
        "        n = attempt\n",
        "    elif attempt < p:\n",
        "        small = attempt\n",
        "    else:\n",
        "        print('Encontré', attempt, 'luego de', s, 'pasos')\n",
        "        break\n",
        "    attempt = (n + small)//2"
      ],
      "metadata": {
        "id": "Q41JPggp4pDJ",
        "colab": {
          "base_uri": "https://localhost:8080/"
        },
        "outputId": "30f2d410-f879-40a9-8849-b4395dd0cd4d"
      },
      "execution_count": 201,
      "outputs": [
        {
          "output_type": "stream",
          "name": "stdout",
          "text": [
            "Encontré 146 luego de 8 pasos\n"
          ]
        }
      ]
    },
    {
      "cell_type": "code",
      "source": [
        "n = 10000 #n\n",
        "small = 0\n",
        "p = 146\n",
        "attempt = n//2\n",
        "not_found = True\n",
        "s = 0 #s es un contador de pasos\n",
        "while not_found:\n",
        "    s = s + 1 \n",
        "    if attempt > p:\n",
        "        n = attempt\n",
        "    elif attempt < p:\n",
        "        small = attempt\n",
        "    else:\n",
        "        print('Encontré', attempt, 'luego de', s, 'pasos')\n",
        "        break\n",
        "    attempt = (n + small)//2"
      ],
      "metadata": {
        "colab": {
          "base_uri": "https://localhost:8080/"
        },
        "id": "jofKEGCg_6Mm",
        "outputId": "f478b610-af77-44a6-d4b0-ddf6f508aa16"
      },
      "execution_count": 202,
      "outputs": [
        {
          "output_type": "stream",
          "name": "stdout",
          "text": [
            "Encontré 146 luego de 10 pasos\n"
          ]
        }
      ]
    },
    {
      "cell_type": "code",
      "source": [
        "n = 1000000 #n\n",
        "small = 0\n",
        "p = 146\n",
        "attempt = n//2\n",
        "not_found = True\n",
        "s = 0 #s es un contador de pasos\n",
        "while not_found:\n",
        "    s = s + 1 \n",
        "    if attempt > p:\n",
        "        n = attempt\n",
        "    elif attempt < p:\n",
        "        small = attempt\n",
        "    else:\n",
        "        print('Encontré', attempt, 'luego de', s, 'pasos')\n",
        "        break\n",
        "    attempt = (n + small)//2"
      ],
      "metadata": {
        "colab": {
          "base_uri": "https://localhost:8080/"
        },
        "id": "n1H605QjAk-r",
        "outputId": "7287ae10-1a2c-401e-c94e-caecde486f87"
      },
      "execution_count": 203,
      "outputs": [
        {
          "output_type": "stream",
          "name": "stdout",
          "text": [
            "Encontré 146 luego de 19 pasos\n"
          ]
        }
      ]
    },
    {
      "cell_type": "code",
      "source": [
        "n = 1000000000 #n\n",
        "small = 0\n",
        "p = 146\n",
        "attempt = n//2\n",
        "not_found = True\n",
        "s = 0 #s es un contador de pasos\n",
        "while not_found:\n",
        "    s = s + 1 \n",
        "    if attempt > p:\n",
        "        n = attempt\n",
        "    elif attempt < p:\n",
        "        small = attempt\n",
        "    else:\n",
        "        print('Encontré', attempt, 'luego de', s, 'pasos')\n",
        "        break\n",
        "    attempt = (n + small)//2"
      ],
      "metadata": {
        "colab": {
          "base_uri": "https://localhost:8080/"
        },
        "id": "kvDvCtKeAqLF",
        "outputId": "7e221918-dc0f-4480-f83f-0befc7f09f58"
      },
      "execution_count": 204,
      "outputs": [
        {
          "output_type": "stream",
          "name": "stdout",
          "text": [
            "Encontré 146 luego de 29 pasos\n"
          ]
        }
      ]
    },
    {
      "cell_type": "markdown",
      "source": [
        "aquí se puede notar que al aumentar n la cantidad de pasos no crece de acorde al aumento, es más al aumentar en factor de $10^a$ con $a$ una constante la cantidad de pasos sólo aumenta algunas unidades, por lo que la eficiencia de este algoritmo es claramente $\\mathcal{O}(log (n))$"
      ],
      "metadata": {
        "id": "YWfddhXeAt3K"
      }
    },
    {
      "cell_type": "code",
      "source": [
        "import numpy as np #imports necesarios\n",
        "import matplotlib.pyplot as plt\n",
        "\n",
        "N= list(range(1000,1000000000,1000000))# lista con las diferentes cantidades de datos\n",
        "s_lista= [] #lista de pasos\n",
        "\n",
        "for n in N: # ciclo que toma todos los elementos de N\n",
        "  small = 0\n",
        "  p = 146 #numero deseado\n",
        "  attempt = n//2\n",
        "  not_found = True\n",
        "  s = 0 #s es un contador de pasos\n",
        "  while not_found:\n",
        "      s = s + 1 \n",
        "      if attempt > p:\n",
        "          n = attempt\n",
        "      elif attempt < p:\n",
        "          small = attempt\n",
        "      else:\n",
        "        #print('Encontré', attempt, 'luego de', s, 'pasos')\n",
        "        s_lista.append(s) #agregamos elementos a la lista de pasos a graficar\n",
        "        break\n",
        "      attempt = (n + small)//2\n",
        "\n",
        "#graficando\n",
        "plt.plot(N,s_lista)\n",
        "plt.xlabel('número N de cantidad de elementos')\n",
        "plt.ylabel('número de pasos por cada N')\n",
        "plt.title('cantidad de elementos vs cantidad de pasos')"
      ],
      "metadata": {
        "colab": {
          "base_uri": "https://localhost:8080/",
          "height": 312
        },
        "id": "OaQZxnz2Bc2N",
        "outputId": "1e7076ae-2f7a-489f-dd65-f6175c11e3dd"
      },
      "execution_count": 213,
      "outputs": [
        {
          "output_type": "execute_result",
          "data": {
            "text/plain": [
              "Text(0.5, 1.0, 'cantidad de elementos vs cantidad de pasos')"
            ]
          },
          "metadata": {},
          "execution_count": 213
        },
        {
          "output_type": "display_data",
          "data": {
            "text/plain": [
              "<Figure size 432x288 with 1 Axes>"
            ],
            "image/png": "[encoded data removed]"
          },
          "metadata": {
            "needs_background": "light"
          }
        }
      ]
    },
    {
      "cell_type": "markdown",
      "source": [
        "y aquí al graficar comprobamos efectivamente que es una eficiencia de escala logaritmica."
      ],
      "metadata": {
        "id": "BZrhWbwkDRRO"
      }
    },
    {
      "cell_type": "code",
      "source": [],
      "metadata": {
        "id": "V-Af3JWDDae_"
      },
      "execution_count": null,
      "outputs": []
    }
  ]
}