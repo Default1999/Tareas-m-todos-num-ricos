{
 "cells": [
  {
   "cell_type": "markdown",
   "metadata": {},
   "source": [
    "## tarea 4.8\n",
    "*Un* colega le entrega a usted archivos de texto con los resultados de una simulación (simulacion.txt). Este archivo contiene tres columnas separadas por espacios tal que cada fila es un dato y las tres columnas son tres propiedades simuladas de ese dato. \n",
    "\n",
    "Escriba una función que lea ese archivo de texto y lo vuelva a guardar en un archivo simulacion.hd5 con tres datasets correspondientes a las tres propiedades de cada dato.\n",
    "\n",
    "Como usted quiere reutilizar esta función para cualquier otro archivo con tres columnas, la función debe tomar el nombre del archivo de texto y el nombre deseado para el nuevo archivo hd5 como argumentos.\n",
    "\n",
    "El archivo simulacion.txt contiene por ejemplo lo siguiente:"
   ]
  },
  {
   "cell_type": "markdown",
   "metadata": {},
   "source": [
    "(por el formato no se ve bien pero son 3 columnas con 9 filas de información)\n",
    "\n",
    "3.141590000000000094e-03 2.557680595776000416e+02 4.501400409434224770e+01\n",
    "6.283180000000000189e-03 3.752818426478838205e+02 2.947770471609068110e+01 \n",
    "9.424770000000000716e-03 4.246697882492646841e+02 2.843524433400840579e+01 \n",
    "1.256636000000000038e-02 4.676325636948347437e+02 2.576223788106328882e+01 \n",
    "1.570795000000000177e-02 4.820912691815412359e+02 1.530261598082400276e+01 \n",
    "1.884954000000000143e-02 4.337667969674867550e+02 1.450243036000263963e+01 \n",
    "2.199113000000000109e-02 4.299064323187142804e+02 7.689521175184014012e+00 \n",
    "2.513272000000000075e-02 3.840742743415148084e+02 5.880658615460115257e+00 \n",
    "2.827431000000000041e-02 3.464876766126099596e+02 5.062040746246734280e+00 "
   ]
  },
  {
   "cell_type": "code",
   "execution_count": 71,
   "metadata": {},
   "outputs": [],
   "source": [
    "import h5py #import rutinario\n",
    "\n",
    "def hd5(nombre_txt,nombre_hd5):\n",
    "    #definimos la función y explicitamos lo que hace\n",
    "    '''Esta funcion recibe por parámetro el nombre del archivo de formato hd5\n",
    "    que quieres crear y luego el nombre del archivo de formato txt del cual quieras extraer la información,\n",
    "    CUIDADO que este archivo txt debe tener 3 columnas de información y los parámetros deben ir entre comillas.\n",
    "    '''\n",
    "    txt= f'{nombre_txt}.txt' #esta es una variable auxiliar ya que no encontraba como pasarle bien el nombre al comando with\n",
    "    hd5= f'{nombre_hd5}.hd5' #ocasionando errores, pero al agregar estas variables y luego llamarlas con el comando with funcionó\n",
    "    \n",
    "    with open(txt , 'r') as txt_file: #abrimos el archivo txt del cual queremos extraer la info.\n",
    "        columna1= [] #creamos 3 listas vacías donde guardaremos las 3 diferentes columnas\n",
    "        columna2= []\n",
    "        columna3= []\n",
    "        lineas= [line.split() for line in txt_file] #creamos una lista de listas donde el primer indice cuenta las filas\n",
    "                                                    # y el segundo indice cuenta la columna\n",
    "            \n",
    "        for i in range(len(lineas)):#ciclo for para que mediante la indexacion correcta se guarden las 3 columnas de info.\n",
    "            columna1.append(float(lineas[i][0])) #cabe destacar que se ocupa el comando float porque de otro modo\n",
    "            columna2.append(float(lineas[i][1])) #se guardan string de información cosa que no es util\n",
    "            columna3.append(float(lineas[i][2]))\n",
    "            \n",
    "        with h5py.File(hd5 , 'w') as hd5_file:#creamos un archivo con el nombre que hayamos escogido antes\n",
    "            columna1= hd5_file.create_dataset('columna1', data=columna1) #creamos las 3 columnas con la información de antes\n",
    "            columna2= hd5_file.create_dataset('columna2', data=columna2)\n",
    "            columna3= hd5_file.create_dataset('columna3', data=columna3)"
   ]
  },
  {
   "cell_type": "code",
   "execution_count": 75,
   "metadata": {},
   "outputs": [],
   "source": [
    "hd5('simulacion','simulacion')#gracias al primer parametro esto abre un archivo llamado simulacion.txt\n",
    "                              # y con el segundo parametro crea el archivo llamado simulacion.hd5"
   ]
  },
  {
   "cell_type": "code",
   "execution_count": null,
   "metadata": {},
   "outputs": [],
   "source": []
  }
 ],
 "metadata": {
  "kernelspec": {
   "display_name": "Python 3",
   "language": "python",
   "name": "python3"
  },
  "language_info": {
   "codemirror_mode": {
    "name": "ipython",
    "version": 3
   },
   "file_extension": ".py",
   "mimetype": "text/x-python",
   "name": "python",
   "nbconvert_exporter": "python",
   "pygments_lexer": "ipython3",
   "version": "3.8.3"
  }
 },
 "nbformat": 4,
 "nbformat_minor": 4
}
