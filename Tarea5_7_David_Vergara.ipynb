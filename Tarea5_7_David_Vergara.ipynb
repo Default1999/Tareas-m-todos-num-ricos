{
 "cells": [
  {
   "cell_type": "markdown",
   "metadata": {
    "id": "cvSyrPlm2nD8"
   },
   "source": [
    "En ausencia de una señal, un cierto detector de partículas en promedio detecta $2$ impactos por segundo debidos a una contaminación de fondo. Durante una medición se obtienen las siguientes observaciones (esta es una lista del número de señales por cada segundo de duración del experimento):"
   ]
  },
  {
   "cell_type": "code",
   "execution_count": 1,
   "metadata": {
    "id": "8tOL_K892n-i"
   },
   "outputs": [],
   "source": [
    "mediciones = [2, 3, 3, 3, 0, 1, 2, 2, 0, 4, 10, 0, 2, 4, 6, 3, 2, 1, 1, 1]"
   ]
  },
  {
   "cell_type": "markdown",
   "metadata": {
    "id": "3__arOdl2tXP"
   },
   "source": [
    "Compare estos resultados con la distribución de Poisson. Discuta en cuáles intervalos cree usted que se detectó una señal que no es contaminación."
   ]
  },
  {
   "cell_type": "code",
   "execution_count": 2,
   "metadata": {
    "id": "EGXs9gzz2ryA"
   },
   "outputs": [],
   "source": [
    "import numpy as np #imports necesarios\n",
    "import matplotlib.pyplot as plt\n",
    "from pprint import pprint\n",
    "\n",
    "\n",
    "def poisson(n, lamda): #definimos función de distribución de poisson\n",
    "  '''\n",
    "  calcula la distribucion de poisson la cual es la probabilidad de que ocurran\n",
    "  n eventos que en promedio ocurren lamda veces, tambien se pueden calcular\n",
    "  varias distribuciones para diferentes n a la vez n tiene que ser una lista o\n",
    "  un array.\n",
    "  '''\n",
    "  \n",
    "  lista_valores= [] #esta es una lista para guardar las diferentes distribuciones\n",
    "                    #poisson cuando se reciben varios valores de n\n",
    "\n",
    "  if type(n)== int: #este if es para que si le damos solo un valor\n",
    "                    #calcule la distribucion de poisson para ese número; este\n",
    "                    #paso fue añadido porque de otro modo me tiraba error\n",
    "    return lamda**n*np.exp(-lamda)/np.math.factorial(n)\n",
    "    \n",
    "  else: # en cambio si recibe una lista de valores; calcula \n",
    "        # la distribucion de poisson para toda la lista y los guarda\n",
    "    for i in n:\n",
    "      lista_valores.append(lamda**i*np.exp(-lamda)/np.math.factorial(i))\n",
    "    return lista_valores\n",
    "\n",
    "def probs(lamda,m): #función para calcular la distribución de poisson\n",
    "                    #para desde n= 0 hasta n= m\n",
    "  return [poisson(n, lamda) for n in range(m+1)]"
   ]
  },
  {
   "cell_type": "markdown",
   "metadata": {
    "id": "xbEDvbscrFQ8"
   },
   "source": [
    "creamos las funciones para calcular la distribución de poisson y procedemos a graficar para hacer las comparaciones."
   ]
  },
  {
   "cell_type": "code",
   "execution_count": 3,
   "metadata": {
    "colab": {
     "base_uri": "https://localhost:8080/",
     "height": 593
    },
    "id": "b6sNbo_mfdhU",
    "outputId": "342b45fa-8b3a-4381-83ce-e4ca616210b7"
   },
   "outputs": [
    {
     "name": "stderr",
     "output_type": "stream",
     "text": [
      "<ipython-input-3-4ae67c21f403>:17: UserWarning: Matplotlib is currently using module://ipykernel.pylab.backend_inline, which is a non-GUI backend, so cannot show the figure.\n",
      "  fig.show()\n"
     ]
    },
    {
     "data": {
      "image/png": "[encoded data removed]",
      "text/plain": [
       "<Figure size 880x1320 with 2 Axes>"
      ]
     },
     "metadata": {
      "needs_background": "light"
     },
     "output_type": "display_data"
    }
   ],
   "source": [
    "fig = plt.figure(figsize=(8,12), dpi= 110)\n",
    "\n",
    "\n",
    "ax1= fig.add_subplot(6,2,1) #gráfico 1\n",
    "ax1.hist(mediciones, bins= 20)\n",
    "ax1.set_title('Mediciones')\n",
    "ax1.set_xlabel('numero de impactos')\n",
    "ax1.set_ylabel('frecuencia')\n",
    "\n",
    "ax2 = fig.add_subplot(6,2,5) #gráfico 2\n",
    "ax2.bar(range(10+1), probs(2, 10),color= 'red')\n",
    "ax2.set_title('Distribución de poisson con $\\lambda = 2$ y con n desde 0 hasta 10')\n",
    "ax2.set_xlabel('n')\n",
    "ax2.set_ylabel('probabilidad')\n",
    "\n",
    "\n",
    "fig.show()"
   ]
  },
  {
   "cell_type": "markdown",
   "metadata": {
    "id": "gS5xboDr51KC"
   },
   "source": [
    "finalmente luego de graficar, se puede observar en el gráfico azul la frecuencia por cantidad de impactos medidos con el sensor y en rojo podemos ver la probabilidad de obtener ''n'' impactos debido a la contaminación cuando en promedio ocurren 2 por esta causa."
   ]
  },
  {
   "cell_type": "markdown",
   "metadata": {
    "id": "3Reoo8sjXJtT"
   },
   "source": [
    "haciendo un poquito de análisis podemos notar que obtener de 0 a 5 impactos debido a contaminación es relativamente poco probable aunque totalmente plausible\n",
    "\n",
    "\n"
   ]
  },
  {
   "cell_type": "code",
   "execution_count": 5,
   "metadata": {
    "colab": {
     "base_uri": "https://localhost:8080/"
    },
    "id": "VCw2QE6yvQWM",
    "outputId": "09d86beb-1f00-46ff-f26f-aaf7bc389982"
   },
   "outputs": [
    {
     "name": "stdout",
     "output_type": "stream",
     "text": [
      "{'prob. de medir 0 impactos': '13.53352832366127%',\n",
      " 'prob. de medir 1 impactos': '27.06705664732254%',\n",
      " 'prob. de medir 10 impactos': '0.0038189850648779593%',\n",
      " 'prob. de medir 2 impactos': '27.06705664732254%',\n",
      " 'prob. de medir 3 impactos': '18.04470443154836%',\n",
      " 'prob. de medir 4 impactos': '9.02235221577418%',\n",
      " 'prob. de medir 6 impactos': '1.2029802954365574%'}\n"
     ]
    }
   ],
   "source": [
    "lista_poisson= poisson(mediciones, 2)#lista con las distribuciones\n",
    "                                     #de poisson calculadas\n",
    "\n",
    "probabilidad_poisson= [i*100 for i in lista_poisson]#distribucion\n",
    "                                                    #de poisson en\n",
    "                                                    #porcentajes\n",
    "\n",
    "\n",
    "\n",
    "med = mediciones          #variable 'med' y variable 'prob'\n",
    "prob= probabilidad_poisson#es netamente para que sea más\n",
    "                          #legible el codigo del diccionario\n",
    "\n",
    "dicc_poisson= {f'prob. de medir {med} impactos':f'{prob}%' for (med,prob) in zip(med,prob)}\n",
    "pprint(dicc_poisson)"
   ]
  },
  {
   "cell_type": "markdown",
   "metadata": {
    "id": "xOb9TJy1ZHHy"
   },
   "source": [
    "cuando mostramos la información en porcentajes podemos comprobar que efectivamente medir entre 1 a 4 impactos debido a contaminación es totalmente probable que pase (recordar que las mediciones se hacen a cada segundo entonces un 9% de probabilidades es bastante alta), ya cuando se midieron 6 impactos podemos hablar de hay indicios de que estas mediciones no fueron solo debido a contaminación ya que hay un 1% de probabilidades de que esto ocurra."
   ]
  },
  {
   "cell_type": "markdown",
   "metadata": {
    "id": "Zp41W11NyxtJ"
   },
   "source": [
    "por último podemos ver una medición de 10 impactos; En el gráfico no podemos visualizar su probabilidad de ocurrencia y cuando calculamos su distribución de poisson notamos que la probabilidad de que ocurran 10 mediciones debido a contaminación es del 0,0038% , con esto podemos decir con casi total seguridad que estas detecciones no fueron un error."
   ]
  },
  {
   "cell_type": "markdown",
   "metadata": {},
   "source": [
    "# Calificacion: 7.0"
   ]
  }
 ],
 "metadata": {
  "colab": {
   "collapsed_sections": [],
   "provenance": []
  },
  "kernelspec": {
   "display_name": "Python 3",
   "language": "python",
   "name": "python3"
  },
  "language_info": {
   "codemirror_mode": {
    "name": "ipython",
    "version": 3
   },
   "file_extension": ".py",
   "mimetype": "text/x-python",
   "name": "python",
   "nbconvert_exporter": "python",
   "pygments_lexer": "ipython3",
   "version": "3.8.3"
  },
  "toc": {
   "base_numbering": 1,
   "nav_menu": {},
   "number_sections": true,
   "sideBar": true,
   "skip_h1_title": false,
   "title_cell": "Table of Contents",
   "title_sidebar": "Contents",
   "toc_cell": false,
   "toc_position": {},
   "toc_section_display": true,
   "toc_window_display": false
  }
 },
 "nbformat": 4,
 "nbformat_minor": 1
}
