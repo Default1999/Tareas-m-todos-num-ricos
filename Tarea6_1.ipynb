{
  "cells": [
    {
      "cell_type": "markdown",
      "metadata": {
        "id": "I1rHFWWYaaFC"
      },
      "source": [
        "Considere los siguientes conjuntos de mediciones de una cierta cantidad que tiene un valor verdadero de $10$ y la medición tiene un error gaussiano de $\\pm 0.1$ a un nivel de confiaza del $68\\%$. ¿Cuál de ellos es anómalo? ¿Por qué? ¿Qué interpretación le da?"
      ]
    },
    {
      "cell_type": "code",
      "execution_count": 2,
      "metadata": {
        "id": "eXiq3YyoaWEo"
      },
      "outputs": [],
      "source": [
        "import numpy as np\n",
        "import matplotlib.pyplot as plt\n",
        "# Conjunto 1\n",
        "c1 = [10.09728388, 14.00677546,  9.97330124, 10.03403577, 10.11014852,\n",
        "        9.85702412, 10.06725561, 10.08586217,  9.99805356, 10.09222044,\n",
        "        9.96873542, 10.0603082 ,  9.78777855, 10.01658336, 10.12528138,\n",
        "       14.1191067 ,  14.88058074,  9.93142885, 10.36578158, 10.09212493,\n",
        "        9.88930781,  9.9849203 , 10.02020365, 10.06761813, 10.00167307,\n",
        "       14.14360885,  9.97572225, 10.15246422,  9.99133822,  9.90424116,\n",
        "       10.10501793,  9.91869535, 10.07039047, 10.06006262, 10.01032325,\n",
        "       10.00433072,  9.94767238,  9.93286478, 10.03173287,  9.92066554,\n",
        "        9.97108415,  9.83034826,  9.94135165,  9.97791295, 10.16112762,\n",
        "       10.06797202, 10.0263643 ,  9.97961471,  9.78969763, 10.05166943,\n",
        "        9.91131264,  9.98634534,  9.97974543, 10.07362277,  9.88424591,\n",
        "        9.99315227, 13.08325547, 10.02539059, 10.1065997 ,  9.83627837,\n",
        "        9.96746961, 10.11354781,  9.98733076,  9.86269556, 10.06259149,\n",
        "        9.73748286, 10.12718777, 10.02529891,  9.96605039, 10.03798876,\n",
        "       10.02311967, 14.09473823,  9.9550051 , 10.17043078, 10.09425491,\n",
        "       10.09005108, 10.01950653, 14.02402728,  9.89166114,  9.89202929,\n",
        "        9.84356976,  9.95499455,  9.98309913,  9.9321069 , 10.02759998,\n",
        "       10.01884409,  9.93640317,  9.84393786, 10.0192927 , 10.17990282,\n",
        "        9.89937182, 10.02106925, 10.01263725,  9.89573905, 10.11424838,\n",
        "       10.08980671, 15.03267925,  9.84762111,  9.96499894,  9.91684104]\n",
        "\n",
        "# Conjunto 2\n",
        "c2 = [10.13630034,  9.97264447, 10.04529035, 10.09188684, 10.00855386,\n",
        "        9.90416116, 10.06281985, 10.10757175,  9.91838149, 10.0493961 ,\n",
        "       10.02446199, 10.10448656,  9.77283484,  9.85600398,  9.90039543,\n",
        "        9.82106987, 10.04031262, 10.06144001, 10.10988717,  9.74308934,\n",
        "        9.99702215,  9.9859704 ,  9.89807371,  9.99585103,  9.93988323,\n",
        "        9.89990546, 10.05643454,  9.94774945, 10.05428393,  9.88404769,\n",
        "       10.00726402,  9.92586135,  9.961164  , 10.01782874,  9.92329839,\n",
        "       10.06092894,  9.95886161,  9.89049626, 10.07754125,  9.83061899,\n",
        "       10.13919176,  9.96898158, 10.06438291, 10.02476394,  9.81875984,\n",
        "       10.0655806 , 10.00193677,  9.96395486,  9.89494378,  9.98505133,\n",
        "        9.95691616,  9.97416592, 10.10692325, 10.18250899, 10.10749261,\n",
        "       10.1037641 ,  9.86450491,  9.85218941, 10.02603336,  9.89537915,\n",
        "        9.89940417,  9.91235537, 10.05523101, 10.08142251, 10.01086045,\n",
        "        9.96034572, 10.1482815 ,  9.99360685,  9.91925958, 10.10239163,\n",
        "       10.03106757,  9.93136713, 10.01773794, 10.05200499, 10.10178781,\n",
        "        9.87483023,  9.94272878,  9.9671527 ,  9.99712438,  9.91594426,\n",
        "        9.99679193,  9.88884633, 10.07940955,  9.90776214, 10.0123038 ,\n",
        "        9.96426746, 10.01747625, 10.0392178 , 10.05489883,  9.67062975,\n",
        "       10.06149946, 10.09805716,  9.83077801, 10.00208448, 10.02687927,\n",
        "        9.99354725,  9.96120681,  9.94538711,  9.96279696,  9.86707357]\n",
        "\n",
        "# Conjunto 3\n",
        "c3 = [ 9.9032974 , 10.06746832,  9.98360179, 10.02011113, 10.01317417,\n",
        "       10.09982861,  9.93307724, 10.04944268,  9.9000297 ,  9.96237539,\n",
        "        9.91807876, 10.00338938,  9.99543713, 10.04674212, 10.08063919,\n",
        "        9.99627534, 10.04558084, 10.06576491, 10.01787305,  9.90861284,\n",
        "        9.99567107,  9.92934922, 10.07999909, 10.04248524, 10.04884959,\n",
        "        9.90839636, 10.04266824,  9.98720842,  9.92392857, 10.00288059,\n",
        "        9.96299254, 10.06967059,  9.94880142,  9.92020426, 10.07145123,\n",
        "        9.91179764,  9.95914293,  9.98200017,  9.93190323,  9.92372118,\n",
        "        9.90601205, 10.09884219, 10.04411164,  9.91673593, 10.09883873,\n",
        "       10.06399646, 10.05061298, 10.02253924, 10.00159467,  9.98862911,\n",
        "        9.99792681,  9.96149526,  9.93018115,  9.95211   ,  9.94530659,\n",
        "        9.9713637 ,  9.91789999, 10.06730498, 10.02326566, 10.06438782,\n",
        "        9.9794271 , 10.06077859,  9.99556797,  9.98272556, 10.01617789,\n",
        "        9.95166775, 10.00406298, 10.02627066,  9.98342611, 10.03584277,\n",
        "        9.98478095, 10.0834946 , 10.01403125, 10.04629496, 10.01444209,\n",
        "       10.02043805, 10.01325408,  9.96317469,  9.93915936, 10.04026662,\n",
        "       10.06055512,  9.98923231, 10.07144049, 10.09482468,  9.94512088,\n",
        "       10.07417098, 10.00802839, 10.01338588,  9.96553168,  9.96240508,\n",
        "        9.9963694 ,  9.96827214,  9.91378322,  9.96249148, 10.02461909,\n",
        "        9.98179311,  9.95811448,  9.9903446 , 10.01001352, 10.06304347]"
      ]
    },
    {
      "cell_type": "code",
      "execution_count": 3,
      "metadata": {
        "colab": {
          "base_uri": "https://localhost:8080/"
        },
        "id": "OLMhxpfNazL5",
        "outputId": "66ab8e66-e554-4f0b-862f-e18023696d62"
      },
      "outputs": [
        {
          "name": "stdout",
          "output_type": "stream",
          "text": [
            "c1 contiene 100 mediciones\n",
            "c2 contiene 100 mediciones\n",
            "c3 contiene 100 mediciones\n"
          ]
        }
      ],
      "source": [
        "#chequeamos la cantidad de mediciones\n",
        "print(f'c1 contiene {len(c1)} mediciones')\n",
        "print(f'c2 contiene {len(c2)} mediciones')\n",
        "print(f'c3 contiene {len(c3)} mediciones')\n"
      ]
    },
    {
      "cell_type": "code",
      "execution_count": 73,
      "metadata": {
        "colab": {
          "base_uri": "https://localhost:8080/"
        },
        "id": "cYRPW1fqc6BH",
        "outputId": "95332931-3217-4f9a-f730-4ebcd690a2a5"
      },
      "outputs": [
        {
          "name": "stdout",
          "output_type": "stream",
          "text": [
            "desviación estandar para c1: 1.1477064537102708\n",
            "desviación estandar para c2: 0.09360058777200604\n",
            "desviación estandar para c3: 0.05394509387704635\n"
          ]
        }
      ],
      "source": [
        "#chequeamos desviación estandar\n",
        "print(f'desviación estandar para c1: {np.std(c1)}')\n",
        "print(f'desviación estandar para c2: {np.std(c2)}')\n",
        "print(f'desviación estandar para c3: {np.std(c3)}')"
      ]
    },
    {
      "cell_type": "markdown",
      "metadata": {
        "id": "xgVozDrlhYot"
      },
      "source": [
        "al ver la desviación estándar de cada conjunto podemos ver que la desviación estandar del grupo c2 y c3 están mucho más cerca del error impuesto arriba ($\\pm 0.1$), por lo que en primera instancia se podría sospechar del conjunto c1 ya que tiene una desviación estandar un poco anormal para lo que se plantea, lo que podría suponer datos ''ajustados o cocinados'' de mala manera, pero por supuesto esto no es suficiente para decidir cual conjunto es el anormal, por lo que hay que hacer un poco más de análisis"
      ]
    },
    {
      "cell_type": "markdown",
      "metadata": {
        "id": "41tqQNOHX8yo"
      },
      "source": [
        "''pruebo lo que dijo el profe haciendo análisis de histogramas''\n"
      ]
    },
    {
      "cell_type": "code",
      "execution_count": 75,
      "metadata": {
        "colab": {
          "base_uri": "https://localhost:8080/",
          "height": 282
        },
        "id": "anStI4LdmuT8",
        "outputId": "b530ee47-40f5-4ddc-ce5a-64111c3b3313"
      },
      "outputs": [
        {
          "data": {
            "text/plain": [
              "<function matplotlib.pyplot.show(*args, **kw)>"
            ]
          },
          "execution_count": 75,
          "metadata": {},
          "output_type": "execute_result"
        },
        {
          "data": {
            "image/png": "[encoded data removed]",
            "text/plain": [
              "<Figure size 432x288 with 1 Axes>"
            ]
          },
          "metadata": {
            "needs_background": "light"
          },
          "output_type": "display_data"
        }
      ],
      "source": [
        "#histograma del conjunto c1\n",
        "\n",
        "plt.hist(c1, bins=200, edgecolor='black')\n",
        "plt.show"
      ]
    },
    {
      "cell_type": "markdown",
      "metadata": {
        "id": "XG5BmY14MjvD"
      },
      "source": [
        "a pesar de la desviación estandar que se calculó más arriba, al analizar el histograma se puede ver que realmente la distribución de medidas(con sus respectivos errores) se asemeja bastante a una gaussiana en la región cercana a 10, con unos ''pequeños'' errores en las mediciones que hacen que la desviación estandar pareciera excesiva en primer lugar (pero que de todos modos pueden pueden perfectamente caer dentro del error experimental)"
      ]
    },
    {
      "cell_type": "code",
      "execution_count": 78,
      "metadata": {
        "colab": {
          "base_uri": "https://localhost:8080/",
          "height": 282
        },
        "id": "mdhgNhoQm3Zk",
        "outputId": "505b0e9b-4b24-459a-d934-3d5b436346af"
      },
      "outputs": [
        {
          "data": {
            "text/plain": [
              "<function matplotlib.pyplot.show(*args, **kw)>"
            ]
          },
          "execution_count": 78,
          "metadata": {},
          "output_type": "execute_result"
        },
        {
          "data": {
            "image/png": "[encoded data removed]",
            "text/plain": [
              "<Figure size 432x288 with 1 Axes>"
            ]
          },
          "metadata": {
            "needs_background": "light"
          },
          "output_type": "display_data"
        }
      ],
      "source": [
        "#histograma del conjunto c2\n",
        "\n",
        "plt.hist(c2, bins=100, edgecolor='black')\n",
        "plt.show"
      ]
    },
    {
      "cell_type": "markdown",
      "metadata": {
        "id": "L34FOVT9OT81"
      },
      "source": [
        "al analizar este conjunto realmente no se puede ver nada anómalo y también se puede observar parte de la distribución gaussiana, ya que los datos a los ''bordes'' del gráfico ocurren con menor frecuencia mientras que el valor esperado es el más frecuente; Tiene valores que se alejan de la desviación estandar lo cual es totalmente normal, pero estos valores no esta tan alejados del valor esperado y por eso la desviación estandar de este conjunto era mucho menor a la del primero."
      ]
    },
    {
      "cell_type": "code",
      "execution_count": 77,
      "metadata": {
        "colab": {
          "base_uri": "https://localhost:8080/",
          "height": 265
        },
        "id": "fXmM3keOztTo",
        "outputId": "7e0d72da-069f-488a-be30-02e73cee860c"
      },
      "outputs": [
        {
          "data": {
            "image/png": "[encoded data removed]",
            "text/plain": [
              "<Figure size 432x288 with 1 Axes>"
            ]
          },
          "metadata": {
            "needs_background": "light"
          },
          "output_type": "display_data"
        }
      ],
      "source": [
        "#histograma del conjunto c3\n",
        "\n",
        "plt.hist(c3, bins=200, edgecolor='black')\n",
        "plt.show()"
      ]
    },
    {
      "cell_type": "markdown",
      "metadata": {
        "id": "ekzihzxmQg5F"
      },
      "source": [
        "al analizar este histograma podemos notar algo, los datos no se salen la desviación estandar (todos entran específicamente en el error de $\\pm 0.1$) lo cual puede indicar una fuerte presencia de ''datos cocinados'' pero no solo eso, sino que realmente la distribución no se parece a la gaussiana ni en forma, ni en que el valor central sea el que más se repite, sino que hay varios valores diferentes que aparecen con la misma frecuencia "
      ]
    },
    {
      "cell_type": "markdown",
      "metadata": {
        "id": "7HUaO1fESJ1T"
      },
      "source": [
        "estos hechos también explican el porqué la desviación estandar del conjunto 3 era la más baja (que también era un punto para sospechar de este conjunto)"
      ]
    },
    {
      "cell_type": "markdown",
      "metadata": {
        "id": "Q0T11mv3apUB"
      },
      "source": [
        "así que en base a los histogramas podriamos decir que el conjunto c3 es el anómalo"
      ]
    },
    {
      "cell_type": "markdown",
      "metadata": {},
      "source": [
        "# Calificación: 7.0"
      ]
    },
    {
      "cell_type": "code",
      "execution_count": null,
      "metadata": {
        "id": "C49Q8NE4wkF5"
      },
      "outputs": [],
      "source": []
    }
  ],
  "metadata": {
    "colab": {
      "provenance": []
    },
    "kernelspec": {
      "display_name": "Python 3",
      "language": "python",
      "name": "python3"
    },
    "language_info": {
      "name": "python",
      "version": "3.10.6 (main, Nov  2 2022, 18:53:38) [GCC 11.3.0]"
    },
    "vscode": {
      "interpreter": {
        "hash": "916dbcbb3f70747c44a77c7bcd40155683ae19c65e1c03b4aa3499c5328201f1"
      }
    }
  },
  "nbformat": 4,
  "nbformat_minor": 0
}
