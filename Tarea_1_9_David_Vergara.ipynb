{
 "cells": [
  {
   "cell_type": "markdown",
   "metadata": {
    "id": "rMP-sMKVGbHn"
   },
   "source": [
    "## Tarea 1.9\n",
    "\n",
    "escriba un código que haga la doble sumatoria"
   ]
  },
  {
   "cell_type": "code",
   "execution_count": 1,
   "metadata": {
    "colab": {
     "base_uri": "https://localhost:8080/"
    },
    "id": "A51Or4eRC0Z5",
    "outputId": "d3d6478e-46dc-423b-f6e5-59b722c3d726"
   },
   "outputs": [
    {
     "name": "stdout",
     "output_type": "stream",
     "text": [
      "101.4374927610005\n"
     ]
    }
   ],
   "source": [
    "def sum(something): #defino una función que me permita sumar todos los elementos de una lista\n",
    "  suma = 0 #el valor por defecto en el que empieza cualquier suma es el 0\n",
    "  for element in something: #por cada elemento de una variable (lista en nuestro caso) se iran sumando los elementos de esta y se almacenarán en la variable suma\n",
    "    suma += element\n",
    "  return suma\n",
    "    \n",
    "x=0.3 #este es el número que se estará elevando en la sumatoria, se debe definir fuera del ciclo ''for'' de otro modo el valor se actualizará todo el rato y no servirá el código\n",
    "z= list() #defino una lista vacía en la cual se iran añadiendo cada elemento al que se le aplica la operación de elevar.\n",
    "\n",
    "for n in range(0,101): #esto simplemente es para ver que la sumatoria vaya del 0 al 100 para el primer indice de la sumatoria, en nuestro caso el n\n",
    "  for m in range(0,n+1): #esto es para que el segundo indice de la sumatoria (m) tambíen avance. notar que en el rango se pone ''n+1'', para que la sumatoria se haga hasta ''n''\n",
    "    y= (x**n)**m\n",
    "    z.append(y) #se calculan todas operaciones y se guardan los valores en una lista\n",
    "\n",
    "#print(len(z)) #esto es para chequear el largo de la lista que se va a sumar\n",
    "#print(z)      #y esto para chequear los elementos de la lista\n",
    "\n",
    "print(sum(z)) #con esto hago uso de la función de suma definida arriba, para que se sumen los elementos de la lista generada con los ciclos ''for''"
   ]
  },
  {
   "cell_type": "markdown",
   "metadata": {
    "id": "FNKg-VfpGX64"
   },
   "source": [
    "# Calificacion: 7.0\n",
    "\n",
    "Tando el codigo como el resultado estan correcto, no obstante dos conentarios:\n",
    "\n",
    "* Si hay codigo que no estas usando y no aporta ningun tipo de informacion (como es ese comentario de #print(len(z)) por ejemplo, borralos cuando hagas la entrega definitiva, esto le quita claridad al codigo.\n",
    "\n",
    "* Es recomendable que las lineas de codigo y comentario no se existen mas de los 60 caracteres, siempre es posible apretar enter y escribir mas abajo o aprovecha el hecho de que se esta utilizando jupyter notebook para escribir texto."
   ]
  }
 ],
 "metadata": {
  "colab": {
   "collapsed_sections": [],
   "name": "Tarea 1.9 David Vergara.ipynb",
   "provenance": []
  },
  "kernelspec": {
   "display_name": "Python 3",
   "language": "python",
   "name": "python3"
  },
  "language_info": {
   "codemirror_mode": {
    "name": "ipython",
    "version": 3
   },
   "file_extension": ".py",
   "mimetype": "text/x-python",
   "name": "python",
   "nbconvert_exporter": "python",
   "pygments_lexer": "ipython3",
   "version": "3.8.3"
  },
  "toc": {
   "base_numbering": 1,
   "nav_menu": {},
   "number_sections": true,
   "sideBar": true,
   "skip_h1_title": false,
   "title_cell": "Table of Contents",
   "title_sidebar": "Contents",
   "toc_cell": false,
   "toc_position": {},
   "toc_section_display": true,
   "toc_window_display": false
  }
 },
 "nbformat": 4,
 "nbformat_minor": 1
}
