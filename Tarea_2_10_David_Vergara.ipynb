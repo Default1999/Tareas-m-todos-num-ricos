{
  "nbformat": 4,
  "nbformat_minor": 0,
  "metadata": {
    "colab": {
      "name": "Tarea_2.10_David_Vergara.ipynb",
      "provenance": []
    },
    "kernelspec": {
      "name": "python3",
      "display_name": "Python 3"
    },
    "language_info": {
      "name": "python"
    }
  },
  "cells": [
    {
      "cell_type": "markdown",
      "source": [
        "## Tarea 2.10\n",
        "\n",
        "En ciertos cálculos importantes en cosmología surge un problema análogo al siguiente. Queremos calcular algunas integrales\n",
        "\n",
        "$$\n",
        "I_{1} = \\int_{0}^{q_{max}} q^2\\left(\\frac{1}{q^5} + \\frac{3}{q}\\right)\\,dq\n",
        "$$\n",
        "\n",
        "$$\n",
        "I_{2} = \\int_{0}^{q_{max}} q^2\\left(\\frac{-1}{q^5} + \\frac{1}{q}\\right)\\,dq\n",
        "$$\n",
        "\n",
        "Estas integrales se pueden aproximar numéricamente por medio de su suma\n",
        "\n",
        "$$\n",
        "\\int_0^{q_{max}} f(q)\\,dq \\approx \\frac{q_{max}}{N} \\sum_{i = 1}^{N} f\\left(i\\times\\frac{q_{max}}{N}\\right) \n",
        "$$\n",
        "\n",
        "Profundizaremos en el cálculo numérico de integrales más adelante.\n",
        "\n",
        "La cantidad de interés es $I = I_{1} + I_{2}$.\n",
        "\n",
        "* Usando $q_{max} = 0.1$ y $N = 500000$, calcule ambas integrales por separado usando la aproximación, y luego súmelas.\n",
        "\n",
        "* La suma de las integrales $I$ se puede escribir como la integral de la suma de los integrandos:\n",
        "\n",
        "$$\n",
        "I = \\int_0^{q_{max}} q^2 \\frac{4}{q}\\,dq\n",
        "$$\n",
        "\n",
        "Calcule $I$ de esta manera usando la aproximación.\n",
        "\n",
        "* ¿Por qué son diferentes los resultados? Compare con el resultado exacto de la integral $I$."
      ],
      "metadata": {
        "id": "K30dth5rkHSC"
      }
    },
    {
      "cell_type": "code",
      "execution_count": 6,
      "metadata": {
        "colab": {
          "base_uri": "https://localhost:8080/"
        },
        "id": "oirbQ8y3j-uD",
        "outputId": "f8b1a3f0-d5a5-4fa2-e980-7e5d2a0e1294"
      },
      "outputs": [
        {
          "output_type": "stream",
          "name": "stdout",
          "text": [
            "esta es la integral I1\n",
            "30051422578939.867\n",
            "\n",
            "esta es la integral I2\n",
            "-30051422578939.85\n",
            "\n",
            "esta es la suma: I1+I2\n",
            "0.015625\n",
            "\n",
            "esta es la integral aproximada reescribiendo la suma de integrandos\n",
            "0.02000004\n",
            "\n",
            "se puede notar que la segunda aproximación es un 21.875% mayor\n"
          ]
        }
      ],
      "source": [
        "import numpy as np #import rutinario\n",
        "\n",
        "qmax= 0.1 #variable qmax\n",
        "N= 500000 #variable N\n",
        "i= np.linspace(1,500000,500000)#array con numeros del 1 al 500000 que son todos los valores que i(definido dentro de la sumatoria) puede tomar\n",
        "q= (i*qmax/N) #en la sumatoria 'q' se reemplaza por esta operación\n",
        "I_1= (qmax/N)*(q**2)*((1/(q**5))+(3/q)) #esta es la función f(q) definida en la primera integral\n",
        "#print(len(I_1)) #este print era para chequear que se haya formado un array con todos los valores posibles que puede tomar la sumatoria\n",
        "integral_1= I_1.sum() #con este comando hago que se sumen todos los elementos de la lista, siendo esta la aproximación de la integral 1\n",
        "print('esta es la integral I1')\n",
        "print(integral_1)\n",
        "print()\n",
        "\n",
        "I_2= (qmax/N)*(q**2)*((-1/(q**5))+(1/q))\n",
        "integral_2= I_2.sum()#análogamente calculo la integral 2\n",
        "suma_de_integrales= integral_1 + integral_2 # y hago la suma de las integrales que era lo que buscaba en un principio\n",
        "\n",
        "print('esta es la integral I2')\n",
        "print(integral_2)\n",
        "print()\n",
        "print('esta es la suma: I1+I2')\n",
        "print(suma_de_integrales)\n",
        "\n",
        "I_3= (qmax/N)*(q**2)*(4/q)#por ultimo calculo la ultima aproximacion (mediante la suma de los integrandos)\n",
        "integral_3= I_3.sum()\n",
        "print()\n",
        "print('esta es la integral aproximada reescribiendo la suma de integrandos')\n",
        "print(integral_3)\n",
        "\n",
        "print()\n",
        "print(f'se puede notar que la segunda aproximación es un {np.float16(100-suma_de_integrales*100/integral_3)}% mayor')"
      ]
    },
    {
      "cell_type": "markdown",
      "source": [
        "para ver porque los números son diferentes hacemos lo siguiente"
      ],
      "metadata": {
        "id": "0DgtnVEWlQRN"
      }
    },
    {
      "cell_type": "code",
      "source": [
        "print('integral 1')\n",
        "print(integral_1)\n",
        "print()\n",
        "print('integral 2')\n",
        "print(integral_2)\n",
        "print()\n",
        "print('número muy grande de 64 bits')\n",
        "print(np.float64(123456789987654321))"
      ],
      "metadata": {
        "colab": {
          "base_uri": "https://localhost:8080/"
        },
        "id": "GZD_iRfikE5H",
        "outputId": "28ecc2f1-0b57-4ab8-8d5a-74b9d07b0ac3"
      },
      "execution_count": 7,
      "outputs": [
        {
          "output_type": "stream",
          "name": "stdout",
          "text": [
            "integral 1\n",
            "30051422578939.867\n",
            "\n",
            "integral 2\n",
            "-30051422578939.85\n",
            "\n",
            "número muy grande de 64 bits\n",
            "1.2345678998765432e+17\n"
          ]
        }
      ]
    },
    {
      "cell_type": "markdown",
      "source": [
        "vemos que la integral 1 tiene 17 dígitos y la integral 2 tiene 16 dígitos.\n",
        "si printeamos un número muy grande podemos ver que la cantidad de dígitos que se pueden representar con 64 bits es de 17 dígitos.\n",
        "\n",
        "\n",
        "podemos notar que los cálculos están en el límite de la precisión de 64 bits, por lo que es totalmente razonable asumir que por eso es que el valor difiere para cada forma de aproximar la integral. "
      ],
      "metadata": {
        "id": "d6MWbFOllc3N"
      }
    },
    {
      "cell_type": "markdown",
      "source": [
        "por último podemos calcular la integral a mano y vemos que el valor de esta es $0,02$ viendo que es muy cercano al valor obtenido mediante la aprox. de la suma de integrandos, por lo que fue esa la mejor manera de hacer el cálculo"
      ],
      "metadata": {
        "id": "pdF2oV8zlfC2"
      }
    }
  ]
}